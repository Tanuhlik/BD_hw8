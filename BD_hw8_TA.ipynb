    {
      "cell_type": "code",
      "metadata": {
        "id": "0JgKhzUEm7iY",
        "colab_type": "code",
        "colab": {}
      },
      "source": [
        "df = spark.read.csv(\"titanic.csv\", header=True, inferSchema=True)"
      ],
      "execution_count": 0,
      "outputs": []
    },
    {
      "cell_type": "code",
      "metadata": {
        "id": "59qxFeOUnAPQ",
        "colab_type": "code",
        "colab": {
          "base_uri": "https://localhost:8080/",
          "height": 255
        },
        "outputId": "791313e5-df93-4c4e-8e94-43a9a9eaa923"
      },
      "source": [
        "df.printSchema()"
      ],
      "execution_count": 46,
      "outputs": [
        {
          "output_type": "stream",
          "text": [
            "root\n",
            " |-- PassengerId: integer (nullable = true)\n",
            " |-- Survived: integer (nullable = true)\n",
            " |-- Pclass: integer (nullable = true)\n",
            " |-- Name: string (nullable = true)\n",
            " |-- Sex: string (nullable = true)\n",
            " |-- Age: double (nullable = true)\n",
            " |-- SibSp: integer (nullable = true)\n",
            " |-- Parch: integer (nullable = true)\n",
            " |-- Ticket: string (nullable = true)\n",
            " |-- Fare: double (nullable = true)\n",
            " |-- Cabin: string (nullable = true)\n",
            " |-- Embarked: string (nullable = true)\n",
            "\n"
          ],
          "name": "stdout"
        }
      ]
    },
    {
      "cell_type": "code",
      "metadata": {
        "id": "aOKSCmwenEr3",
        "colab_type": "code",
        "colab": {
          "base_uri": "https://localhost:8080/",
          "height": 190
        },
        "outputId": "c7c85163-3b34-405e-b4ee-73a0d25135ed"
      },
      "source": [
        "df.show(3)"
      ],
      "execution_count": 47,
      "outputs": [
        {
          "output_type": "stream",
          "text": [
            "+-----------+--------+------+--------------------+------+----+-----+-----+----------------+-------+-----+--------+\n",
            "|PassengerId|Survived|Pclass|                Name|   Sex| Age|SibSp|Parch|          Ticket|   Fare|Cabin|Embarked|\n",
            "+-----------+--------+------+--------------------+------+----+-----+-----+----------------+-------+-----+--------+\n",
            "|          1|       0|     3|Braund, Mr. Owen ...|  male|22.0|    1|    0|       A/5 21171|   7.25| null|       S|\n",
            "|          2|       1|     1|Cumings, Mrs. Joh...|female|38.0|    1|    0|        PC 17599|71.2833|  C85|       C|\n",
            "|          3|       1|     3|Heikkinen, Miss. ...|female|26.0|    0|    0|STON/O2. 3101282|  7.925| null|       S|\n",
            "+-----------+--------+------+--------------------+------+----+-----+-----+----------------+-------+-----+--------+\n",
            "only showing top 3 rows\n",
            "\n"
          ],
          "name": "stdout"
        }
      ]
    },
    {
      "cell_type": "code",
      "metadata": {
        "id": "EcbXb-RqnIcg",
        "colab_type": "code",
        "colab": {}
      },
      "source": [
        "columnList = [item[0] for item in df.dtypes if item[1].startswith('string')]"
      ],
      "execution_count": 0,
      "outputs": []
    },
    {
      "cell_type": "code",
      "metadata": {
        "id": "MGZn6vZknTbX",
        "colab_type": "code",
        "colab": {
          "base_uri": "https://localhost:8080/",
          "height": 34
        },
        "outputId": "d9224f58-f479-415d-fd99-daef7229a760"
      },
      "source": [
        "columnList"
      ],
      "execution_count": 49,
      "outputs": [
        {
          "output_type": "execute_result",
          "data": {
            "text/plain": [
              "['Name', 'Sex', 'Ticket', 'Cabin', 'Embarked']"
            ]
          },
          "metadata": {
            "tags": []
          },
          "execution_count": 49
        }
      ]
    },
    {
      "cell_type": "code",
      "metadata": {
        "id": "NyQAJy7vnX6o",
        "colab_type": "code",
        "colab": {}
      },
      "source": [
        "df = df.drop(*columnList)"
      ],
      "execution_count": 0,
      "outputs": []
    },
    {
      "cell_type": "code",
      "metadata": {
        "id": "f1YhoKdSneAY",
        "colab_type": "code",
        "colab": {
          "base_uri": "https://localhost:8080/",
          "height": 170
        },
        "outputId": "5f642932-e7e8-4057-a3d6-6032ca023fac"
      },
      "source": [
        "df.printSchema()"
      ],
      "execution_count": 51,
      "outputs": [
        {
          "output_type": "stream",
          "text": [
            "root\n",
            " |-- PassengerId: integer (nullable = true)\n",
            " |-- Survived: integer (nullable = true)\n",
            " |-- Pclass: integer (nullable = true)\n",
            " |-- Age: double (nullable = true)\n",
            " |-- SibSp: integer (nullable = true)\n",
            " |-- Parch: integer (nullable = true)\n",
            " |-- Fare: double (nullable = true)\n",
            "\n"
          ],
          "name": "stdout"
        }
      ]
    },
    {
      "cell_type": "code",
      "metadata": {
        "id": "qAF2plt_ngnH",
        "colab_type": "code",
        "colab": {}
      },
      "source": [
        "df = df.drop('PassengerId')"
      ],
      "execution_count": 0,
      "outputs": []
    },
    {
      "cell_type": "code",
      "metadata": {
        "id": "qG6bD1rantKo",
        "colab_type": "code",
        "colab": {
          "base_uri": "https://localhost:8080/",
          "height": 153
        },
        "outputId": "dad5571d-979d-4ed2-b98c-851e5d15dabe"
      },
      "source": [
        "df.printSchema()"
      ],
      "execution_count": 53,
      "outputs": [
        {
          "output_type": "stream",
          "text": [
            "root\n",
            " |-- Survived: integer (nullable = true)\n",
            " |-- Pclass: integer (nullable = true)\n",
            " |-- Age: double (nullable = true)\n",
            " |-- SibSp: integer (nullable = true)\n",
            " |-- Parch: integer (nullable = true)\n",
            " |-- Fare: double (nullable = true)\n",
            "\n"
          ],
          "name": "stdout"
        }
      ]
    },
    {
      "cell_type": "code",
      "metadata": {
        "id": "lYB2DCqbnwf_",
        "colab_type": "code",
        "colab": {}
      },
      "source": [
        "df = df.dropna()"
      ],
      "execution_count": 0,
      "outputs": []
    },
    {
      "cell_type": "code",
      "metadata": {
        "id": "DX48pUg5pEmc",
        "colab_type": "code",
        "colab": {}
      },
      "source": [
        "from pyspark.ml.feature import VectorAssembler"
      ],
      "execution_count": 0,
      "outputs": []
    },
    {
      "cell_type": "code",
      "metadata": {
        "id": "mb9nF7FspOa1",
        "colab_type": "code",
        "colab": {}
      },
      "source": [
        "train_cols = df.columns[1:6]"
      ],
      "execution_count": 0,
      "outputs": []
    },
    {
      "cell_type": "code",
      "metadata": {
        "id": "-RLPp2vYpX4M",
        "colab_type": "code",
        "colab": {
          "base_uri": "https://localhost:8080/",
          "height": 34
        },
        "outputId": "a4958d0e-f523-4e63-dd4b-a2cf6587b15c"
      },
      "source": [
        "train_cols"
      ],
      "execution_count": 79,
      "outputs": [
        {
          "output_type": "execute_result",
          "data": {
            "text/plain": [
              "['Pclass', 'Age', 'SibSp', 'Parch', 'Fare']"
            ]
          },
          "metadata": {
            "tags": []
          },
          "execution_count": 79
        }
      ]
    },
    {
      "cell_type": "code",
      "metadata": {
        "id": "wSHV1kErpd1c",
        "colab_type": "code",
        "colab": {}
      },
      "source": [
        "vector = VectorAssembler(inputCols = train_cols, outputCol = 'features')"
      ],
      "execution_count": 0,
      "outputs": []
    },
    {
      "cell_type": "code",
      "metadata": {
        "id": "-cu9HOnjpjD8",
        "colab_type": "code",
        "colab": {}
      },
      "source": [
        "v_df = vector.transform(df)"
      ],
      "execution_count": 0,
      "outputs": []
    },
    {
      "cell_type": "code",
      "metadata": {
        "id": "h7uapJD6pq3E",
        "colab_type": "code",
        "colab": {}
      },
      "source": [
        "v_df = v_df.select(['features', 'Survived'])"
      ],
      "execution_count": 0,
      "outputs": []
    },
    {
      "cell_type": "code",
      "metadata": {
        "id": "DYaXAtjbqvZJ",
        "colab_type": "code",
        "colab": {
          "base_uri": "https://localhost:8080/",
          "height": 170
        },
        "outputId": "b60e395d-62cb-4d57-a2aa-9341bb8b46a7"
      },
      "source": [
        "v_df.show(3)"
      ],
      "execution_count": 83,
      "outputs": [
        {
          "output_type": "stream",
          "text": [
            "+--------------------+--------+\n",
            "|            features|Survived|\n",
            "+--------------------+--------+\n",
            "|[3.0,22.0,1.0,0.0...|       0|\n",
            "|[1.0,38.0,1.0,0.0...|       1|\n",
            "|[3.0,26.0,0.0,0.0...|       1|\n",
            "+--------------------+--------+\n",
            "only showing top 3 rows\n",
            "\n"
          ],
          "name": "stdout"
        }
      ]
    },
    {
      "cell_type": "code",
      "metadata": {
        "id": "_I9pudIMsOcH",
        "colab_type": "code",
        "colab": {}
      },
      "source": [
        "(train_df, test_df) = v_df.randomSplit([0.8,0.2])"
      ],
      "execution_count": 0,
      "outputs": []
    },
    {
      "cell_type": "code",
      "metadata": {
        "id": "3TQNLQHxsX7O",
        "colab_type": "code",
        "colab": {}
      },
      "source": [
        "from pyspark.ml.regression import LinearRegression"
      ],
      "execution_count": 0,
      "outputs": []
    },
    {
      "cell_type": "code",
      "metadata": {
        "id": "wlaVVrmFsazX",
        "colab_type": "code",
        "colab": {}
      },
      "source": [
        "lr = LinearRegression(featuresCol='features', labelCol='Survived')"
      ],
      "execution_count": 0,
      "outputs": []
    },
    {
      "cell_type": "code",
      "metadata": {
        "id": "dNdo0QWisgC2",
        "colab_type": "code",
        "colab": {}
      },
      "source": [
        "lr_model = lr.fit(train_df)"
      ],
      "execution_count": 0,
      "outputs": []
    },
    {
      "cell_type": "code",
      "metadata": {
        "id": "pIvyS8gcsix-",
        "colab_type": "code",
        "colab": {}
      },
      "source": [
        "trainingSummary = lr_model.summary"
      ],
      "execution_count": 0,
      "outputs": []
    },
    {
      "cell_type": "code",
      "metadata": {
        "id": "FjB056eGsoyX",
        "colab_type": "code",
        "colab": {
          "base_uri": "https://localhost:8080/",
          "height": 34
        },
        "outputId": "cd7f61fb-3cd5-48fa-a7f6-2cc86402301c"
      },
      "source": [
        "print(\"RMSE: %f\" % trainingSummary.rootMeanSquaredError)"
      ],
      "execution_count": 89,
      "outputs": [
        {
          "output_type": "stream",
          "text": [
            "RMSE: 0.449807\n"
          ],
          "name": "stdout"
        }
      ]
    },
    {
      "cell_type": "code",
      "metadata": {
        "id": "iipW4Rznsr9u",
        "colab_type": "code",
        "colab": {
          "base_uri": "https://localhost:8080/",
          "height": 34
        },
        "outputId": "9a4c8158-69d1-4fb0-8f3c-a454b0062c93"
      },
      "source": [
        "print(\"MSE: %f\" % trainingSummary.meanSquaredError)"
      ],
      "execution_count": 90,
      "outputs": [
        {
          "output_type": "stream",
          "text": [
            "MSE: 0.202326\n"
          ],
          "name": "stdout"
        }
      ]
    },
    {
      "cell_type": "code",
      "metadata": {
        "id": "r6waEtoisvrm",
        "colab_type": "code",
        "colab": {
          "base_uri": "https://localhost:8080/",
          "height": 34
        },
        "outputId": "137e6516-d91b-4ee2-e246-b43be8da25d9"
      },
      "source": [
        "print(\"MAE: %f\" % trainingSummary.meanAbsoluteError)"
      ],
      "execution_count": 91,
      "outputs": [
        {
          "output_type": "stream",
          "text": [
            "MAE: 0.405219\n"
          ],
          "name": "stdout"
        }
      ]
    },
    {
      "cell_type": "code",
      "metadata": {
        "id": "xDWQ9i8ysylO",
        "colab_type": "code",
        "colab": {
          "base_uri": "https://localhost:8080/",
          "height": 204
        },
        "outputId": "e20a3a8d-ac79-4f71-f6c0-7470b4da08eb"
      },
      "source": [
        "lr_predictions = lr_model.transform(test_df)\n",
        "lr_predictions.select(\"prediction\",\"Survived\",\"features\").show(5)"
      ],
      "execution_count": 92,
      "outputs": [
        {
          "output_type": "stream",
          "text": [
            "+-------------------+--------+--------------------+\n",
            "|         prediction|Survived|            features|\n",
            "+-------------------+--------+--------------------+\n",
            "|0.18017947817656377|       0|(5,[0,1],[3.0,36.0])|\n",
            "| 0.9879146424671691|       1|[1.0,0.92,1.0,2.0...|\n",
            "|  0.700086703726104|       1|[1.0,17.0,1.0,0.0...|\n",
            "| 0.9141900308318247|       1|[1.0,18.0,2.0,2.0...|\n",
            "| 0.7153544447720317|       1|[1.0,19.0,1.0,0.0...|\n",
            "+-------------------+--------+--------------------+\n",
            "only showing top 5 rows\n",
            "\n"
          ],
          "name": "stdout"
        }
      ]
    },
    {
      "cell_type": "code",
      "metadata": {
        "id": "gO-jYWB3s682",
        "colab_type": "code",
        "colab": {}
      },
      "source": [
        "from pyspark.ml.evaluation import MulticlassClassificationEvaluator"
      ],
      "execution_count": 0,
      "outputs": []
    },
    {
      "cell_type": "code",
      "metadata": {
        "id": "jU1Gois4tB6V",
        "colab_type": "code",
        "colab": {}
      },
      "source": [
        "lr_evaluator = RegressionEvaluator(predictionCol=\"prediction\", \\\n",
        "                 labelCol=\"Survived\", metricName=\"rmse\")"
      ],
      "execution_count": 0,
      "outputs": []
    },
    {
      "cell_type": "code",
      "metadata": {
        "id": "lz4KzsFhtLgd",
        "colab_type": "code",
        "colab": {
          "base_uri": "https://localhost:8080/",
          "height": 34
        },
        "outputId": "50fbdddc-addd-4355-d28c-29ed5089100f"
      },
      "source": [
        "print(\"MSE on test data = %g\" % lr_evaluator.evaluate(lr_predictions))"
      ],
      "execution_count": 99,
      "outputs": [
        {
          "output_type": "stream",
          "text": [
            "MSE on test data = 0.424488\n"
          ],
          "name": "stdout"
        }
      ]
    },
    {
      "cell_type": "code",
      "metadata": {
        "id": "KoER2k7Oul2L",
        "colab_type": "code",
        "colab": {}
      },
      "source": [
        ""
      ],
      "execution_count": 0,
      "outputs": []
    }
  ]
}
